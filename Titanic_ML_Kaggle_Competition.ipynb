{
  "nbformat": 4,
  "nbformat_minor": 0,
  "metadata": {
    "colab": {
      "name": "Titanic_ML_Kaggle_Competition.ipynb",
      "provenance": [],
      "collapsed_sections": []
    },
    "kernelspec": {
      "name": "python3",
      "display_name": "Python 3"
    },
    "language_info": {
      "name": "python"
    }
  },
  "cells": [
    {
      "cell_type": "markdown",
      "source": [
        "## Overview \n",
        "This is an example of using binary categorizing, on this nootebook we will use machine learning to create a model that predicts which passengers survived the Titanic shipwreck.\n",
        "\n",
        "## Data description\n",
        "One dataset is titled `train.csv` and the other is titled `test.csv`.\n",
        "\n",
        "Train.csv will contain the details of a subset of the passengers on board (891 to be exact) and the results of whether they survived or not, also known as the “ground truth”.\n",
        "\n",
        "The `test.csv` dataset contains similar information but does not disclose the “ground truth” for each passenger.\n",
        "\n",
        "Using the patterns we will find in the train.csv data, predict whether the other 418 passengers on board (found in test.csv) survived."
      ],
      "metadata": {
        "id": "YAaHtT3BEMcG"
      }
    },
    {
      "cell_type": "code",
      "source": [
        "# We will start by importing the data so we can start working with it \n",
        "\n",
        "import pandas as pd \n",
        "import numpy as np\n",
        "import seaborn as sns\n",
        "df = pd.read_csv(\"train.csv\")\n",
        "df1 = pd.read_csv(\"test.csv\")\n"
      ],
      "metadata": {
        "id": "ZHe-DuTCEio-"
      },
      "execution_count": 183,
      "outputs": []
    },
    {
      "cell_type": "code",
      "source": [
        "# Now it's time to show the data we're working with \n",
        "df"
      ],
      "metadata": {
        "colab": {
          "base_uri": "https://localhost:8080/",
          "height": 554
        },
        "id": "Zj3WBDfNF2Xx",
        "outputId": "fea89c71-73dd-4194-f3db-d7d68b8a8371"
      },
      "execution_count": 222,
      "outputs": [
        {
          "output_type": "execute_result",
          "data": {
            "text/plain": [
              "     PassengerId  Survived  Pclass  \\\n",
              "0              1         0       3   \n",
              "1              2         1       1   \n",
              "2              3         1       3   \n",
              "3              4         1       1   \n",
              "4              5         0       3   \n",
              "..           ...       ...     ...   \n",
              "886          887         0       2   \n",
              "887          888         1       1   \n",
              "888          889         0       3   \n",
              "889          890         1       1   \n",
              "890          891         0       3   \n",
              "\n",
              "                                                  Name     Sex   Age  SibSp  \\\n",
              "0                              Braund, Mr. Owen Harris    male  22.0      1   \n",
              "1    Cumings, Mrs. John Bradley (Florence Briggs Th...  female  38.0      1   \n",
              "2                               Heikkinen, Miss. Laina  female  26.0      0   \n",
              "3         Futrelle, Mrs. Jacques Heath (Lily May Peel)  female  35.0      1   \n",
              "4                             Allen, Mr. William Henry    male  35.0      0   \n",
              "..                                                 ...     ...   ...    ...   \n",
              "886                              Montvila, Rev. Juozas    male  27.0      0   \n",
              "887                       Graham, Miss. Margaret Edith  female  19.0      0   \n",
              "888           Johnston, Miss. Catherine Helen \"Carrie\"  female   NaN      1   \n",
              "889                              Behr, Mr. Karl Howell    male  26.0      0   \n",
              "890                                Dooley, Mr. Patrick    male  32.0      0   \n",
              "\n",
              "     Parch            Ticket     Fare Cabin Embarked  \n",
              "0        0         A/5 21171   7.2500   NaN        S  \n",
              "1        0          PC 17599  71.2833   C85        C  \n",
              "2        0  STON/O2. 3101282   7.9250   NaN        S  \n",
              "3        0            113803  53.1000  C123        S  \n",
              "4        0            373450   8.0500   NaN        S  \n",
              "..     ...               ...      ...   ...      ...  \n",
              "886      0            211536  13.0000   NaN        S  \n",
              "887      0            112053  30.0000   B42        S  \n",
              "888      2        W./C. 6607  23.4500   NaN        S  \n",
              "889      0            111369  30.0000  C148        C  \n",
              "890      0            370376   7.7500   NaN        Q  \n",
              "\n",
              "[891 rows x 12 columns]"
            ],
            "text/html": [
              "\n",
              "  <div id=\"df-617a0944-842c-4a49-997e-3a16f58db34e\">\n",
              "    <div class=\"colab-df-container\">\n",
              "      <div>\n",
              "<style scoped>\n",
              "    .dataframe tbody tr th:only-of-type {\n",
              "        vertical-align: middle;\n",
              "    }\n",
              "\n",
              "    .dataframe tbody tr th {\n",
              "        vertical-align: top;\n",
              "    }\n",
              "\n",
              "    .dataframe thead th {\n",
              "        text-align: right;\n",
              "    }\n",
              "</style>\n",
              "<table border=\"1\" class=\"dataframe\">\n",
              "  <thead>\n",
              "    <tr style=\"text-align: right;\">\n",
              "      <th></th>\n",
              "      <th>PassengerId</th>\n",
              "      <th>Survived</th>\n",
              "      <th>Pclass</th>\n",
              "      <th>Name</th>\n",
              "      <th>Sex</th>\n",
              "      <th>Age</th>\n",
              "      <th>SibSp</th>\n",
              "      <th>Parch</th>\n",
              "      <th>Ticket</th>\n",
              "      <th>Fare</th>\n",
              "      <th>Cabin</th>\n",
              "      <th>Embarked</th>\n",
              "    </tr>\n",
              "  </thead>\n",
              "  <tbody>\n",
              "    <tr>\n",
              "      <th>0</th>\n",
              "      <td>1</td>\n",
              "      <td>0</td>\n",
              "      <td>3</td>\n",
              "      <td>Braund, Mr. Owen Harris</td>\n",
              "      <td>male</td>\n",
              "      <td>22.0</td>\n",
              "      <td>1</td>\n",
              "      <td>0</td>\n",
              "      <td>A/5 21171</td>\n",
              "      <td>7.2500</td>\n",
              "      <td>NaN</td>\n",
              "      <td>S</td>\n",
              "    </tr>\n",
              "    <tr>\n",
              "      <th>1</th>\n",
              "      <td>2</td>\n",
              "      <td>1</td>\n",
              "      <td>1</td>\n",
              "      <td>Cumings, Mrs. John Bradley (Florence Briggs Th...</td>\n",
              "      <td>female</td>\n",
              "      <td>38.0</td>\n",
              "      <td>1</td>\n",
              "      <td>0</td>\n",
              "      <td>PC 17599</td>\n",
              "      <td>71.2833</td>\n",
              "      <td>C85</td>\n",
              "      <td>C</td>\n",
              "    </tr>\n",
              "    <tr>\n",
              "      <th>2</th>\n",
              "      <td>3</td>\n",
              "      <td>1</td>\n",
              "      <td>3</td>\n",
              "      <td>Heikkinen, Miss. Laina</td>\n",
              "      <td>female</td>\n",
              "      <td>26.0</td>\n",
              "      <td>0</td>\n",
              "      <td>0</td>\n",
              "      <td>STON/O2. 3101282</td>\n",
              "      <td>7.9250</td>\n",
              "      <td>NaN</td>\n",
              "      <td>S</td>\n",
              "    </tr>\n",
              "    <tr>\n",
              "      <th>3</th>\n",
              "      <td>4</td>\n",
              "      <td>1</td>\n",
              "      <td>1</td>\n",
              "      <td>Futrelle, Mrs. Jacques Heath (Lily May Peel)</td>\n",
              "      <td>female</td>\n",
              "      <td>35.0</td>\n",
              "      <td>1</td>\n",
              "      <td>0</td>\n",
              "      <td>113803</td>\n",
              "      <td>53.1000</td>\n",
              "      <td>C123</td>\n",
              "      <td>S</td>\n",
              "    </tr>\n",
              "    <tr>\n",
              "      <th>4</th>\n",
              "      <td>5</td>\n",
              "      <td>0</td>\n",
              "      <td>3</td>\n",
              "      <td>Allen, Mr. William Henry</td>\n",
              "      <td>male</td>\n",
              "      <td>35.0</td>\n",
              "      <td>0</td>\n",
              "      <td>0</td>\n",
              "      <td>373450</td>\n",
              "      <td>8.0500</td>\n",
              "      <td>NaN</td>\n",
              "      <td>S</td>\n",
              "    </tr>\n",
              "    <tr>\n",
              "      <th>...</th>\n",
              "      <td>...</td>\n",
              "      <td>...</td>\n",
              "      <td>...</td>\n",
              "      <td>...</td>\n",
              "      <td>...</td>\n",
              "      <td>...</td>\n",
              "      <td>...</td>\n",
              "      <td>...</td>\n",
              "      <td>...</td>\n",
              "      <td>...</td>\n",
              "      <td>...</td>\n",
              "      <td>...</td>\n",
              "    </tr>\n",
              "    <tr>\n",
              "      <th>886</th>\n",
              "      <td>887</td>\n",
              "      <td>0</td>\n",
              "      <td>2</td>\n",
              "      <td>Montvila, Rev. Juozas</td>\n",
              "      <td>male</td>\n",
              "      <td>27.0</td>\n",
              "      <td>0</td>\n",
              "      <td>0</td>\n",
              "      <td>211536</td>\n",
              "      <td>13.0000</td>\n",
              "      <td>NaN</td>\n",
              "      <td>S</td>\n",
              "    </tr>\n",
              "    <tr>\n",
              "      <th>887</th>\n",
              "      <td>888</td>\n",
              "      <td>1</td>\n",
              "      <td>1</td>\n",
              "      <td>Graham, Miss. Margaret Edith</td>\n",
              "      <td>female</td>\n",
              "      <td>19.0</td>\n",
              "      <td>0</td>\n",
              "      <td>0</td>\n",
              "      <td>112053</td>\n",
              "      <td>30.0000</td>\n",
              "      <td>B42</td>\n",
              "      <td>S</td>\n",
              "    </tr>\n",
              "    <tr>\n",
              "      <th>888</th>\n",
              "      <td>889</td>\n",
              "      <td>0</td>\n",
              "      <td>3</td>\n",
              "      <td>Johnston, Miss. Catherine Helen \"Carrie\"</td>\n",
              "      <td>female</td>\n",
              "      <td>NaN</td>\n",
              "      <td>1</td>\n",
              "      <td>2</td>\n",
              "      <td>W./C. 6607</td>\n",
              "      <td>23.4500</td>\n",
              "      <td>NaN</td>\n",
              "      <td>S</td>\n",
              "    </tr>\n",
              "    <tr>\n",
              "      <th>889</th>\n",
              "      <td>890</td>\n",
              "      <td>1</td>\n",
              "      <td>1</td>\n",
              "      <td>Behr, Mr. Karl Howell</td>\n",
              "      <td>male</td>\n",
              "      <td>26.0</td>\n",
              "      <td>0</td>\n",
              "      <td>0</td>\n",
              "      <td>111369</td>\n",
              "      <td>30.0000</td>\n",
              "      <td>C148</td>\n",
              "      <td>C</td>\n",
              "    </tr>\n",
              "    <tr>\n",
              "      <th>890</th>\n",
              "      <td>891</td>\n",
              "      <td>0</td>\n",
              "      <td>3</td>\n",
              "      <td>Dooley, Mr. Patrick</td>\n",
              "      <td>male</td>\n",
              "      <td>32.0</td>\n",
              "      <td>0</td>\n",
              "      <td>0</td>\n",
              "      <td>370376</td>\n",
              "      <td>7.7500</td>\n",
              "      <td>NaN</td>\n",
              "      <td>Q</td>\n",
              "    </tr>\n",
              "  </tbody>\n",
              "</table>\n",
              "<p>891 rows × 12 columns</p>\n",
              "</div>\n",
              "      <button class=\"colab-df-convert\" onclick=\"convertToInteractive('df-617a0944-842c-4a49-997e-3a16f58db34e')\"\n",
              "              title=\"Convert this dataframe to an interactive table.\"\n",
              "              style=\"display:none;\">\n",
              "        \n",
              "  <svg xmlns=\"http://www.w3.org/2000/svg\" height=\"24px\"viewBox=\"0 0 24 24\"\n",
              "       width=\"24px\">\n",
              "    <path d=\"M0 0h24v24H0V0z\" fill=\"none\"/>\n",
              "    <path d=\"M18.56 5.44l.94 2.06.94-2.06 2.06-.94-2.06-.94-.94-2.06-.94 2.06-2.06.94zm-11 1L8.5 8.5l.94-2.06 2.06-.94-2.06-.94L8.5 2.5l-.94 2.06-2.06.94zm10 10l.94 2.06.94-2.06 2.06-.94-2.06-.94-.94-2.06-.94 2.06-2.06.94z\"/><path d=\"M17.41 7.96l-1.37-1.37c-.4-.4-.92-.59-1.43-.59-.52 0-1.04.2-1.43.59L10.3 9.45l-7.72 7.72c-.78.78-.78 2.05 0 2.83L4 21.41c.39.39.9.59 1.41.59.51 0 1.02-.2 1.41-.59l7.78-7.78 2.81-2.81c.8-.78.8-2.07 0-2.86zM5.41 20L4 18.59l7.72-7.72 1.47 1.35L5.41 20z\"/>\n",
              "  </svg>\n",
              "      </button>\n",
              "      \n",
              "  <style>\n",
              "    .colab-df-container {\n",
              "      display:flex;\n",
              "      flex-wrap:wrap;\n",
              "      gap: 12px;\n",
              "    }\n",
              "\n",
              "    .colab-df-convert {\n",
              "      background-color: #E8F0FE;\n",
              "      border: none;\n",
              "      border-radius: 50%;\n",
              "      cursor: pointer;\n",
              "      display: none;\n",
              "      fill: #1967D2;\n",
              "      height: 32px;\n",
              "      padding: 0 0 0 0;\n",
              "      width: 32px;\n",
              "    }\n",
              "\n",
              "    .colab-df-convert:hover {\n",
              "      background-color: #E2EBFA;\n",
              "      box-shadow: 0px 1px 2px rgba(60, 64, 67, 0.3), 0px 1px 3px 1px rgba(60, 64, 67, 0.15);\n",
              "      fill: #174EA6;\n",
              "    }\n",
              "\n",
              "    [theme=dark] .colab-df-convert {\n",
              "      background-color: #3B4455;\n",
              "      fill: #D2E3FC;\n",
              "    }\n",
              "\n",
              "    [theme=dark] .colab-df-convert:hover {\n",
              "      background-color: #434B5C;\n",
              "      box-shadow: 0px 1px 3px 1px rgba(0, 0, 0, 0.15);\n",
              "      filter: drop-shadow(0px 1px 2px rgba(0, 0, 0, 0.3));\n",
              "      fill: #FFFFFF;\n",
              "    }\n",
              "  </style>\n",
              "\n",
              "      <script>\n",
              "        const buttonEl =\n",
              "          document.querySelector('#df-617a0944-842c-4a49-997e-3a16f58db34e button.colab-df-convert');\n",
              "        buttonEl.style.display =\n",
              "          google.colab.kernel.accessAllowed ? 'block' : 'none';\n",
              "\n",
              "        async function convertToInteractive(key) {\n",
              "          const element = document.querySelector('#df-617a0944-842c-4a49-997e-3a16f58db34e');\n",
              "          const dataTable =\n",
              "            await google.colab.kernel.invokeFunction('convertToInteractive',\n",
              "                                                     [key], {});\n",
              "          if (!dataTable) return;\n",
              "\n",
              "          const docLinkHtml = 'Like what you see? Visit the ' +\n",
              "            '<a target=\"_blank\" href=https://colab.research.google.com/notebooks/data_table.ipynb>data table notebook</a>'\n",
              "            + ' to learn more about interactive tables.';\n",
              "          element.innerHTML = '';\n",
              "          dataTable['output_type'] = 'display_data';\n",
              "          await google.colab.output.renderOutput(dataTable, element);\n",
              "          const docLink = document.createElement('div');\n",
              "          docLink.innerHTML = docLinkHtml;\n",
              "          element.appendChild(docLink);\n",
              "        }\n",
              "      </script>\n",
              "    </div>\n",
              "  </div>\n",
              "  "
            ]
          },
          "metadata": {},
          "execution_count": 222
        }
      ]
    },
    {
      "cell_type": "code",
      "source": [
        "# We have the following features on the data frame \n",
        "df.columns"
      ],
      "metadata": {
        "colab": {
          "base_uri": "https://localhost:8080/"
        },
        "id": "CcU1HyqiG6Up",
        "outputId": "b4ed8b1e-6387-4983-aa64-b0da2db18167"
      },
      "execution_count": 2,
      "outputs": [
        {
          "output_type": "execute_result",
          "data": {
            "text/plain": [
              "Index(['PassengerId', 'Survived', 'Pclass', 'Name', 'Sex', 'Age', 'SibSp',\n",
              "       'Parch', 'Ticket', 'Fare', 'Cabin', 'Embarked'],\n",
              "      dtype='object')"
            ]
          },
          "metadata": {},
          "execution_count": 2
        }
      ]
    },
    {
      "cell_type": "markdown",
      "source": [
        "The variables meaning is the following: \n",
        "\n",
        "![Titanic.png](data:image/png;base64,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)"
      ],
      "metadata": {
        "id": "92McACrCH4V8"
      }
    },
    {
      "cell_type": "code",
      "source": [
        "# We already see there some values that are not available in the data frame however we will look for missing values \n",
        "\n",
        "import missingno \n",
        "import matplotlib.pyplot as plt \n",
        "\n",
        "missingno.matrix(df)"
      ],
      "metadata": {
        "colab": {
          "base_uri": "https://localhost:8080/",
          "height": 468
        },
        "id": "R4ivEhUgHF7D",
        "outputId": "ec2df057-8a0b-474f-fb19-67bccd33f219"
      },
      "execution_count": 3,
      "outputs": [
        {
          "output_type": "execute_result",
          "data": {
            "text/plain": [
              "<matplotlib.axes._subplots.AxesSubplot at 0x7f28d8d42ed0>"
            ]
          },
          "metadata": {},
          "execution_count": 3
        },
        {
          "output_type": "display_data",
          "data": {
            "text/plain": [
              "<Figure size 1800x720 with 2 Axes>"
            ],
            "image/png": "[encoded data removed]"
          },
          "metadata": {
            "needs_background": "light"
          }
        }
      ]
    },
    {
      "cell_type": "code",
      "source": [
        "# It's clear that the features Age and Cabin don't have all the data\n",
        "# We can check how many missing values we have on these two features \n",
        "df[\"Age\"].isnull().sum(), df['Cabin'].isnull().sum()"
      ],
      "metadata": {
        "colab": {
          "base_uri": "https://localhost:8080/"
        },
        "id": "POvL75gII-PX",
        "outputId": "1935d952-cff7-40ca-a28d-34428ee5b0a3"
      },
      "execution_count": 4,
      "outputs": [
        {
          "output_type": "execute_result",
          "data": {
            "text/plain": [
              "(177, 687)"
            ]
          },
          "metadata": {},
          "execution_count": 4
        }
      ]
    },
    {
      "cell_type": "markdown",
      "source": [
        " We cannot work with the feature Cabin since there's too many missing values and we can try to predict a value for the age since I consider it important. To estimate the age we will use the information of the columns sibsp and parch, # of siblings / spouses abord the Titanic and # of parents/ children aboard the Titanic.  \n"
      ],
      "metadata": {
        "id": "sduKOr0CKVPa"
      }
    },
    {
      "cell_type": "code",
      "source": [
        "# We start by dropping the column Cabin \n",
        "df = df.drop(\"Cabin\", axis=1)\n",
        "df.columns"
      ],
      "metadata": {
        "colab": {
          "base_uri": "https://localhost:8080/"
        },
        "id": "FtplmxV0MU_c",
        "outputId": "812570a3-e4ee-46a8-fdfa-e4089109d4d0"
      },
      "execution_count": 6,
      "outputs": [
        {
          "output_type": "execute_result",
          "data": {
            "text/plain": [
              "Index(['PassengerId', 'Survived', 'Pclass', 'Name', 'Sex', 'Age', 'SibSp',\n",
              "       'Parch', 'Ticket', 'Fare', 'Embarked'],\n",
              "      dtype='object')"
            ]
          },
          "metadata": {},
          "execution_count": 6
        }
      ]
    },
    {
      "cell_type": "code",
      "source": [
        "# Now we will get the rows where there's no age so we can try to estimate the age \n",
        "ages_missing = df[df['Age'].isna()]"
      ],
      "metadata": {
        "id": "ZhRwUPf7NfaE"
      },
      "execution_count": 7,
      "outputs": []
    },
    {
      "cell_type": "code",
      "source": [
        "# We have 52 survivers on the 177 examples without age \n",
        "ages_missing[ages_missing.Survived==1].sum()\n",
        "ages_missing[ages_missing.Survived==1]\n"
      ],
      "metadata": {
        "id": "P2mFUmgpObqI"
      },
      "execution_count": null,
      "outputs": []
    },
    {
      "cell_type": "markdown",
      "source": [
        "From what I've checked on the current data it's difficult to estimate the age, so we will solve the problem with three solutions:  \n",
        "1. Drop the age column and work with all the data. (This is going to affect if the age was important on the survival)\n",
        "2. Drop the rows where the age is missing and work with all the columns. \n",
        "3. Propose the average to fill the missing ages. "
      ],
      "metadata": {
        "id": "ESQLeDV7OdGr"
      }
    },
    {
      "cell_type": "code",
      "source": [
        "# Now let's check the values of the columns are logical and according to what is expected \n",
        "#We verify the names arre correctly on objects columns\n",
        "for col in df:\n",
        "  print(df[col].unique())\n"
      ],
      "metadata": {
        "id": "t89BU0h-SOto"
      },
      "execution_count": null,
      "outputs": []
    },
    {
      "cell_type": "markdown",
      "source": [
        "We can observe in the data that the ticket number, the name and the passanger id are not useful and diverse so we will not work with these features \n"
      ],
      "metadata": {
        "id": "0KXa0Y-yTsvY"
      }
    },
    {
      "cell_type": "code",
      "source": [
        "df_1 = df.drop([\"PassengerId\",'Name','Ticket'], axis = 1)"
      ],
      "metadata": {
        "id": "BvSwA3y7UFPf"
      },
      "execution_count": 70,
      "outputs": []
    },
    {
      "cell_type": "code",
      "source": [
        "df_1 = df_1.drop(\"Cabin\", axis=1)"
      ],
      "metadata": {
        "id": "s6f2TIj6ZjHV"
      },
      "execution_count": 76,
      "outputs": []
    },
    {
      "cell_type": "code",
      "source": [
        "df_1.columns"
      ],
      "metadata": {
        "colab": {
          "base_uri": "https://localhost:8080/"
        },
        "id": "rntlZuChZU5T",
        "outputId": "53cb91cf-8a87-4d84-b2c4-7c6cae1f842f"
      },
      "execution_count": 77,
      "outputs": [
        {
          "output_type": "execute_result",
          "data": {
            "text/plain": [
              "Index(['Survived', 'Pclass', 'Sex', 'Age', 'SibSp', 'Parch', 'Fare',\n",
              "       'Embarked'],\n",
              "      dtype='object')"
            ]
          },
          "metadata": {},
          "execution_count": 77
        }
      ]
    },
    {
      "cell_type": "markdown",
      "source": [
        "## Visualize the data \n",
        "Now we will make some graphs to show the tendency with the survival between the features \n"
      ],
      "metadata": {
        "id": "f3aFP1IzUn8y"
      }
    },
    {
      "cell_type": "code",
      "source": [
        "# We will star to check if the ticket class is somehow related with the survival\n",
        "# We will create a function to do this plots \n",
        "def plot_survival(column_name, t):\n",
        "  df_aux = pd.DataFrame()\n",
        "  df_aux[\"Total\"]=df.groupby(column_name).size()\n",
        "  df_aux['Survived'] = df.groupby(column_name).sum()['Survived']\n",
        "  df_aux[\"Percentage\"] = round(df_aux[\"Survived\"]/df_aux[\"Total\"]*100,2)\n",
        "  \n",
        "\n",
        "  plt.figure(figsize=(10, 4))\n",
        "  \n",
        "  plt.subplot(1,2,1)\n",
        "  df_aux['Survived'].plot(kind=t)\n",
        "  df_aux['Total'].plot(kind=t, alpha=0.5, title= \"Survivors per \" + str(column_name))\n",
        "  plt.legend()\n",
        "  \n",
        "  plt.subplot(1,2,2)\n",
        "  df_aux['Percentage'].plot(kind = t, title= \"Percentage of survivors per \" + str(column_name), ylabel=\"Percentage of survivors\")\n",
        "  \n",
        "\n",
        "  plt.show()\n"
      ],
      "metadata": {
        "id": "qC_pR8bdUhcr"
      },
      "execution_count": 11,
      "outputs": []
    },
    {
      "cell_type": "code",
      "source": [
        "  plot_survival(\"Pclass\", \"barh\")"
      ],
      "metadata": {
        "colab": {
          "base_uri": "https://localhost:8080/",
          "height": 281
        },
        "id": "-T5LLUpRsml4",
        "outputId": "9d8f1be0-b0b2-41aa-f781-d2b9d77d4190"
      },
      "execution_count": 12,
      "outputs": [
        {
          "output_type": "display_data",
          "data": {
            "text/plain": [
              "<Figure size 720x288 with 2 Axes>"
            ],
            "image/png": "[encoded data removed]"
          },
          "metadata": {
            "needs_background": "light"
          }
        }
      ]
    },
    {
      "cell_type": "markdown",
      "source": [
        "It's clear to see the differences between people that survived according to their ticket class, the percentage of survivor in the upper class was much bigger than the one for the third class \n"
      ],
      "metadata": {
        "id": "TZ3Myd0AxTqH"
      }
    },
    {
      "cell_type": "code",
      "source": [
        " plot_survival('Sex', \"barh\")"
      ],
      "metadata": {
        "colab": {
          "base_uri": "https://localhost:8080/",
          "height": 281
        },
        "id": "JYYBSsPFo6nZ",
        "outputId": "896ce985-c074-4fc3-b9ad-7492a3417d36"
      },
      "execution_count": 13,
      "outputs": [
        {
          "output_type": "display_data",
          "data": {
            "text/plain": [
              "<Figure size 720x288 with 2 Axes>"
            ],
            "image/png": "[encoded data removed]"
          },
          "metadata": {
            "needs_background": "light"
          }
        }
      ]
    },
    {
      "cell_type": "markdown",
      "source": [
        "More than 70 percent of women survived compared to the less than 20 percent of men.\n",
        "Now to work with ages it's neccesary to drop the rows where no age is given and to work with ranges."
      ],
      "metadata": {
        "id": "XsanFZbN2OzW"
      }
    },
    {
      "cell_type": "code",
      "source": [
        "# We will drop the rows where we don't have any Age available  \n",
        "df_1 = df_1.dropna(subset=[\"Age\"])\n"
      ],
      "metadata": {
        "id": "tg1E6CTi1-st"
      },
      "execution_count": 78,
      "outputs": []
    },
    {
      "cell_type": "code",
      "source": [
        "# We will define a function to create intervals according to the column needed \n",
        "def create_interval (column_name, column_interest, no_interval):\n",
        "\n",
        "# We find the min and max values to establish the interval length and the number of data n the interval   \n",
        "  max_value = round(df_1[column_name].max())\n",
        "  min_value = round(df_1[column_name].min())\n",
        "  no_values = df_1[column_name].size\n",
        "\n",
        "# We get the location of the columns of interest within the data frame for the iloc \n",
        "  x = df_1.columns.get_loc(column_name)\n",
        "  y = df_1.columns.get_loc(column_interest)\n",
        "\n",
        "  interval_space = round((max_value-min_value)/no_interval)\n",
        "  interval_values = round(no_values/no_interval)\n",
        "\n",
        "# We organize the data from the lowest to the highest value \n",
        "  df_sorted = df_1.sort_values(by = column_name , ascending = True)\n",
        "  cte = 0\n",
        "\n",
        "  interval_x = pd.DataFrame()\n",
        "  interval_y = pd.DataFrame()\n",
        "\n",
        "# We create the intervals in a cycle \n",
        "  for i in range(no_interval):\n",
        "\n",
        "    interval_x[i] = df_sorted.iloc[ min_value + cte : interval_values + cte  , x].values\n",
        "    interval_y[i] = df_sorted.iloc[ min_value + cte : interval_values + cte , y].values \n",
        "    cte = cte + interval_values\n",
        "  \n",
        "  print(f\"The interval is divide each {interval_space}\")\n",
        "\n",
        "  return (interval_x , interval_y)"
      ],
      "metadata": {
        "id": "TMhAHzXp4L2J"
      },
      "execution_count": 152,
      "outputs": []
    },
    {
      "cell_type": "code",
      "source": [
        "interval_agex,interval_agey = create_interval(\"Age\", \"Survived\", 4)"
      ],
      "metadata": {
        "colab": {
          "base_uri": "https://localhost:8080/"
        },
        "id": "gUKCiOLzQZP9",
        "outputId": "024da801-7c19-4566-b360-d8dc8d6c5a5d"
      },
      "execution_count": 217,
      "outputs": [
        {
          "output_type": "stream",
          "name": "stdout",
          "text": [
            "The interval is divide each 20\n"
          ]
        }
      ]
    },
    {
      "cell_type": "code",
      "source": [
        "df_res = pd.DataFrame()\n",
        "df_res[\"less_20\"] = interval_agey[0].value_counts()\n",
        "df_res[\"more_20_less_40\"] = interval_agey[1].value_counts()\n",
        "df_res[\"more_40_less_60\"] = interval_agey[2].value_counts()\n",
        "df_res [\"more_60\"] = interval_agey[3].value_counts()\n",
        "df_res = df_res.T"
      ],
      "metadata": {
        "id": "UbyOE11gp-5-"
      },
      "execution_count": 207,
      "outputs": []
    },
    {
      "cell_type": "code",
      "source": [
        "df_res[\"Percentage of survivors\"]= (df_res[1]/(df_res[0]+df_res[1]))*100"
      ],
      "metadata": {
        "id": "KJbWiO0sw1Gv"
      },
      "execution_count": 245,
      "outputs": []
    },
    {
      "cell_type": "code",
      "source": [
        "df_res['Percentage of survivors'].plot(kind = \"barh\" , title= \"Percentage of survivors per Age\");"
      ],
      "metadata": {
        "colab": {
          "base_uri": "https://localhost:8080/",
          "height": 281
        },
        "id": "N5zrSXf22ggC",
        "outputId": "cdcc8749-dd2d-4660-8154-418e80808c88"
      },
      "execution_count": 246,
      "outputs": [
        {
          "output_type": "display_data",
          "data": {
            "text/plain": [
              "<Figure size 432x288 with 1 Axes>"
            ],
            "image/png": "[encoded data removed]"
          },
          "metadata": {
            "needs_background": "light"
          }
        }
      ]
    },
    {
      "cell_type": "markdown",
      "source": [
        "We can see the children and teenagers with age less than 20 had more chanses of survive, followed by the people between 40 and 60.\n"
      ],
      "metadata": {
        "id": "AWF3tQkS2LzP"
      }
    },
    {
      "cell_type": "code",
      "source": [
        "# Now we will check the rest of the parameters 'SibSp', 'Parch', 'Fare',\n",
        "#       'Embarked'  \n",
        "plot_survival(\"SibSp\", \"barh\")"
      ],
      "metadata": {
        "colab": {
          "base_uri": "https://localhost:8080/",
          "height": 281
        },
        "id": "JvKAPA8Qynyb",
        "outputId": "6c58558e-0a78-4fb8-bc62-81c9ad4bbce1"
      },
      "execution_count": 218,
      "outputs": [
        {
          "output_type": "display_data",
          "data": {
            "text/plain": [
              "<Figure size 720x288 with 2 Axes>"
            ],
            "image/png": "[encoded data removed]"
          },
          "metadata": {
            "needs_background": "light"
          }
        }
      ]
    },
    {
      "cell_type": "markdown",
      "source": [
        "The parameter # of siblings / spouses aboard the Titanic gives us the clue that people with  0, 1 or 2 siblings had more chances to survive.   "
      ],
      "metadata": {
        "id": "aEpna7bu93Ka"
      }
    },
    {
      "cell_type": "code",
      "source": [
        "plot_survival(\"Parch\", \"barh\")"
      ],
      "metadata": {
        "colab": {
          "base_uri": "https://localhost:8080/",
          "height": 281
        },
        "id": "BEoBszr_9sHh",
        "outputId": "ed946bbf-089c-48c7-8cc5-9cc832bf1d9b"
      },
      "execution_count": 219,
      "outputs": [
        {
          "output_type": "display_data",
          "data": {
            "text/plain": [
              "<Figure size 720x288 with 2 Axes>"
            ],
            "image/png": "[encoded data removed]"
          },
          "metadata": {
            "needs_background": "light"
          }
        }
      ]
    },
    {
      "cell_type": "markdown",
      "source": [
        "Apparently having at least 1,2 or 3 parents/children resulted in more chances to survive. "
      ],
      "metadata": {
        "id": "4MDc5gWl_HEA"
      }
    },
    {
      "cell_type": "code",
      "source": [
        "# To review the relation of the fare with the survivors we will create intervals \n",
        "# We will create four intervals\n",
        "interval_farex,interval_farey = create_interval(\"Fare\", \"Survived\", 4)"
      ],
      "metadata": {
        "colab": {
          "base_uri": "https://localhost:8080/"
        },
        "id": "67BPLvUj-9ux",
        "outputId": "3fc5152b-22a4-4ae9-b7a2-a42c823a2644"
      },
      "execution_count": 229,
      "outputs": [
        {
          "output_type": "stream",
          "name": "stdout",
          "text": [
            "The interval is divide each 128\n"
          ]
        }
      ]
    },
    {
      "cell_type": "code",
      "source": [
        "interval_farey"
      ],
      "metadata": {
        "id": "3NyFX65iBtI4"
      },
      "execution_count": null,
      "outputs": []
    },
    {
      "cell_type": "code",
      "source": [
        "df_fare = pd.DataFrame()\n",
        "df_fare[\"less_128\"] = interval_farey[0].value_counts()\n",
        "df_fare[\"more_128_less_256\"] = interval_farey[1].value_counts()\n",
        "df_fare[\"more256__less_384\"] = interval_farey[2].value_counts()\n",
        "df_fare [\"more_384\"] = interval_farey[3].value_counts()\n",
        "df_fare = df_fare.T\n",
        "df_fare[\"Percentage of survivors\"]= (df_fare[1]/(df_fare[0]+df_fare[1]))*100"
      ],
      "metadata": {
        "id": "fQ8N0mko_mYl"
      },
      "execution_count": 243,
      "outputs": []
    },
    {
      "cell_type": "code",
      "source": [
        "df_fare['Percentage of survivors'].plot(kind = \"barh\" , title= \"Percentage of survivors per Fare\");"
      ],
      "metadata": {
        "colab": {
          "base_uri": "https://localhost:8080/",
          "height": 281
        },
        "id": "-7OjUFRcBazt",
        "outputId": "b94d18c8-9d44-4906-93a7-98103d0648b4"
      },
      "execution_count": 247,
      "outputs": [
        {
          "output_type": "display_data",
          "data": {
            "text/plain": [
              "<Figure size 432x288 with 1 Axes>"
            ],
            "image/png": "[encoded data removed]"
          },
          "metadata": {
            "needs_background": "light"
          }
        }
      ]
    },
    {
      "cell_type": "markdown",
      "source": [
        "We can see a clear correspondance between the fare and the label we're interested. "
      ],
      "metadata": {
        "id": "x1AEESgKDbAE"
      }
    },
    {
      "cell_type": "code",
      "source": [
        "# Lastly we will check how te data of the port of Embarkation relates with the label \n",
        "plot_survival(\"Embarked\", \"barh\")"
      ],
      "metadata": {
        "colab": {
          "base_uri": "https://localhost:8080/",
          "height": 281
        },
        "id": "dzx3KI1eBbZZ",
        "outputId": "1f6d71d3-bfe0-4845-c0c4-a6819ce7eb12"
      },
      "execution_count": 248,
      "outputs": [
        {
          "output_type": "display_data",
          "data": {
            "text/plain": [
              "<Figure size 720x288 with 2 Axes>"
            ],
            "image/png": "[encoded data removed]"
          },
          "metadata": {
            "needs_background": "light"
          }
        }
      ]
    },
    {
      "cell_type": "markdown",
      "source": [
        "We can observe the people that embarked on Cherbour survived the most. Now it's time to create the model to predict the label. From the observtions we can say:\n",
        "\n",
        "1. The sex, ticket class, passanger fare and port of embarkation are the parameters that influence the most on the prediction. \n",
        "2. The number of siblings/spouses, number of children/parents and age influence in smaller meadure compared to the parameters in point one. "
      ],
      "metadata": {
        "id": "gnMr0KxqFBTi"
      }
    },
    {
      "cell_type": "markdown",
      "source": [
        "## Create the model "
      ],
      "metadata": {
        "id": "dV2Tw73J4LUM"
      }
    },
    {
      "cell_type": "code",
      "source": [
        "# We start by creating the data we will use in the model \n",
        "\n",
        "df_train = pd.read_csv(\"train.csv\")\n",
        "df_test = pd.read_csv(\"test.csv\")\n",
        "\n",
        "\n",
        "df_train = df_train.drop([\"PassengerId\",'Name','Ticket','Cabin'], axis = 1)\n",
        "df_train = df_train.dropna(subset=[\"Age\",\"Embarked\"])\n",
        "#df_test = df_test.drop(['Name','Ticket'], axis = 1)\n",
        "#df_test = df_test.dropna(subset=[\"Age\",\"Fare\"])\n",
        "\n"
      ],
      "metadata": {
        "id": "FgHSIaOsEteC"
      },
      "execution_count": 519,
      "outputs": []
    },
    {
      "cell_type": "code",
      "source": [
        "# Now it's time to create the vectors and matrixes for the model.\n",
        "X_train = df_train.drop(\"Survived\", axis=1)\n",
        "y_train = df_train[\"Survived\"]  \n",
        "X_test = df_test.drop(\"Cabin\", axis=1)\n"
      ],
      "metadata": {
        "id": "mDfPjRtsI366"
      },
      "execution_count": 520,
      "outputs": []
    },
    {
      "cell_type": "code",
      "source": [
        "X_train.columns"
      ],
      "metadata": {
        "colab": {
          "base_uri": "https://localhost:8080/"
        },
        "id": "OAdViOtElLa0",
        "outputId": "60635207-bb43-4856-8f59-b4c77472f1fa"
      },
      "execution_count": 521,
      "outputs": [
        {
          "output_type": "execute_result",
          "data": {
            "text/plain": [
              "Index(['Pclass', 'Sex', 'Age', 'SibSp', 'Parch', 'Fare', 'Embarked'], dtype='object')"
            ]
          },
          "metadata": {},
          "execution_count": 521
        }
      ]
    },
    {
      "cell_type": "code",
      "source": [
        "X_test.columns"
      ],
      "metadata": {
        "colab": {
          "base_uri": "https://localhost:8080/"
        },
        "id": "qxeSC9G3lSV5",
        "outputId": "9203cce1-dcad-4b47-ee04-163359da5c02"
      },
      "execution_count": 522,
      "outputs": [
        {
          "output_type": "execute_result",
          "data": {
            "text/plain": [
              "Index(['PassengerId', 'Pclass', 'Name', 'Sex', 'Age', 'SibSp', 'Parch',\n",
              "       'Ticket', 'Fare', 'Embarked'],\n",
              "      dtype='object')"
            ]
          },
          "metadata": {},
          "execution_count": 522
        }
      ]
    },
    {
      "cell_type": "code",
      "source": [
        "# We will transform our data to make it more useful \n",
        "from sklearn.compose import make_column_transformer\n",
        "from sklearn.preprocessing import MinMaxScaler, OneHotEncoder\n",
        "from sklearn.model_selection import train_test_split\n",
        "\n",
        "#We can use MinMaxScaler or StandardScaler\n",
        "\n",
        "#Create a column transformer \n",
        "ct= make_column_transformer(\n",
        "    (MinMaxScaler(), [\"Age\", \"Fare\"]), #turn all values in these columns between 0 and 1\n",
        "    (OneHotEncoder(handle_unknown=\"ignore\"), [\"Pclass\",\"Sex\",\"SibSp\",\"Parch\",\"Embarked\"])\n",
        ")\n",
        "\n",
        "#Create a column transformer for test data\n",
        "ct1= make_column_transformer(\n",
        "    (MinMaxScaler(), [\"Age\", \"Fare\"]), #turn all values in these columns between 0 and 1\n",
        "    (OneHotEncoder(handle_unknown=\"ignore\"), [\"Pclass\",\"Sex\",\"SibSp\",\"Parch\",\"Embarked\"])\n",
        ")\n",
        "\n",
        "# Fit the column transformer to our training data\n",
        "ct.fit(X_train)\n",
        "ct1.fit(X_test)\n"
      ],
      "metadata": {
        "colab": {
          "base_uri": "https://localhost:8080/"
        },
        "id": "SXQMYfVZXa57",
        "outputId": "fecd18a7-4325-4027-cc7b-52592f702bed"
      },
      "execution_count": 523,
      "outputs": [
        {
          "output_type": "execute_result",
          "data": {
            "text/plain": [
              "ColumnTransformer(transformers=[('minmaxscaler', MinMaxScaler(),\n",
              "                                 ['Age', 'Fare']),\n",
              "                                ('onehotencoder',\n",
              "                                 OneHotEncoder(handle_unknown='ignore'),\n",
              "                                 ['Pclass', 'Sex', 'SibSp', 'Parch',\n",
              "                                  'Embarked'])])"
            ]
          },
          "metadata": {},
          "execution_count": 523
        }
      ]
    },
    {
      "cell_type": "code",
      "source": [
        "#Transform training and test data with normalization (MinMaxScaler) and OneHotEncoder\n",
        "X_train_normal = ct.transform(X_train)\n",
        "X_test_normal = ct.transform(X_test)\n"
      ],
      "metadata": {
        "id": "AOtK-FW2Y4Ln"
      },
      "execution_count": 524,
      "outputs": []
    },
    {
      "cell_type": "code",
      "source": [
        "import tensorflow as tf \n",
        "# Lets recreate a model to fit on the training data and evaluate on the train test \n",
        "\n",
        "# Create the seed \n",
        "tf.random.set_seed(42)\n",
        "\n",
        "#Create the model (same as last model)\n",
        "\n",
        "#1. Create a model with a non-linear activation \n",
        "model_1 = tf.keras.Sequential([\n",
        "                                tf.keras.layers.Dense(6, activation=tf.keras.activations.relu),\n",
        "                                tf.keras.layers.Dense(2, activation=tf.keras.activations.relu),\n",
        "                                tf.keras.layers.Dense(1, activation=tf.keras.activations.sigmoid)\n",
        "])\n",
        "\n",
        "#2. Compile the model \n",
        "model_1.compile(loss=tf.keras.losses.BinaryFocalCrossentropy(),\n",
        "                optimizer=tf.keras.optimizers.Adam(learning_rate= 0.01),\n",
        "                metrics=[\"Recall\"])\n",
        "\n",
        "#3. Fit the model \n",
        "model_1.fit(X_train_normal,y_train, epochs=100)"
      ],
      "metadata": {
        "colab": {
          "base_uri": "https://localhost:8080/"
        },
        "id": "fRcyl1R6MUCS",
        "outputId": "106acfad-2660-4fa3-92f1-8e2d38a52824"
      },
      "execution_count": 496,
      "outputs": [
        {
          "output_type": "stream",
          "name": "stdout",
          "text": [
            "Epoch 1/100\n",
            "23/23 [==============================] - 1s 2ms/step - loss: 0.1726 - recall: 0.5035\n",
            "Epoch 2/100\n",
            "23/23 [==============================] - 0s 2ms/step - loss: 0.1367 - recall: 0.7083\n",
            "Epoch 3/100\n",
            "23/23 [==============================] - 0s 2ms/step - loss: 0.1241 - recall: 0.5833\n",
            "Epoch 4/100\n",
            "23/23 [==============================] - 0s 3ms/step - loss: 0.1200 - recall: 0.5660\n",
            "Epoch 5/100\n",
            "23/23 [==============================] - 0s 3ms/step - loss: 0.1171 - recall: 0.5833\n",
            "Epoch 6/100\n",
            "23/23 [==============================] - 0s 3ms/step - loss: 0.1166 - recall: 0.5694\n",
            "Epoch 7/100\n",
            "23/23 [==============================] - 0s 2ms/step - loss: 0.1145 - recall: 0.6319\n",
            "Epoch 8/100\n",
            "23/23 [==============================] - 0s 2ms/step - loss: 0.1139 - recall: 0.6181\n",
            "Epoch 9/100\n",
            "23/23 [==============================] - 0s 2ms/step - loss: 0.1128 - recall: 0.5868\n",
            "Epoch 10/100\n",
            "23/23 [==============================] - 0s 2ms/step - loss: 0.1120 - recall: 0.6493\n",
            "Epoch 11/100\n",
            "23/23 [==============================] - 0s 2ms/step - loss: 0.1117 - recall: 0.6493\n",
            "Epoch 12/100\n",
            "23/23 [==============================] - 0s 3ms/step - loss: 0.1108 - recall: 0.6424\n",
            "Epoch 13/100\n",
            "23/23 [==============================] - 0s 3ms/step - loss: 0.1107 - recall: 0.6215\n",
            "Epoch 14/100\n",
            "23/23 [==============================] - 0s 2ms/step - loss: 0.1100 - recall: 0.6389\n",
            "Epoch 15/100\n",
            "23/23 [==============================] - 0s 3ms/step - loss: 0.1097 - recall: 0.6528\n",
            "Epoch 16/100\n",
            "23/23 [==============================] - 0s 2ms/step - loss: 0.1097 - recall: 0.6424\n",
            "Epoch 17/100\n",
            "23/23 [==============================] - 0s 2ms/step - loss: 0.1092 - recall: 0.6493\n",
            "Epoch 18/100\n",
            "23/23 [==============================] - 0s 2ms/step - loss: 0.1085 - recall: 0.6458\n",
            "Epoch 19/100\n",
            "23/23 [==============================] - 0s 3ms/step - loss: 0.1085 - recall: 0.6597\n",
            "Epoch 20/100\n",
            "23/23 [==============================] - 0s 2ms/step - loss: 0.1076 - recall: 0.6597\n",
            "Epoch 21/100\n",
            "23/23 [==============================] - 0s 2ms/step - loss: 0.1074 - recall: 0.6701\n",
            "Epoch 22/100\n",
            "23/23 [==============================] - 0s 2ms/step - loss: 0.1070 - recall: 0.7014\n",
            "Epoch 23/100\n",
            "23/23 [==============================] - 0s 3ms/step - loss: 0.1067 - recall: 0.6979\n",
            "Epoch 24/100\n",
            "23/23 [==============================] - 0s 2ms/step - loss: 0.1078 - recall: 0.6528\n",
            "Epoch 25/100\n",
            "23/23 [==============================] - 0s 2ms/step - loss: 0.1075 - recall: 0.6944\n",
            "Epoch 26/100\n",
            "23/23 [==============================] - 0s 2ms/step - loss: 0.1108 - recall: 0.6667\n",
            "Epoch 27/100\n",
            "23/23 [==============================] - 0s 2ms/step - loss: 0.1061 - recall: 0.6840\n",
            "Epoch 28/100\n",
            "23/23 [==============================] - 0s 3ms/step - loss: 0.1054 - recall: 0.6597\n",
            "Epoch 29/100\n",
            "23/23 [==============================] - 0s 3ms/step - loss: 0.1061 - recall: 0.7292\n",
            "Epoch 30/100\n",
            "23/23 [==============================] - 0s 2ms/step - loss: 0.1087 - recall: 0.7083\n",
            "Epoch 31/100\n",
            "23/23 [==============================] - 0s 2ms/step - loss: 0.1057 - recall: 0.6354\n",
            "Epoch 32/100\n",
            "23/23 [==============================] - 0s 3ms/step - loss: 0.1065 - recall: 0.7118\n",
            "Epoch 33/100\n",
            "23/23 [==============================] - 0s 2ms/step - loss: 0.1053 - recall: 0.7188\n",
            "Epoch 34/100\n",
            "23/23 [==============================] - 0s 3ms/step - loss: 0.1051 - recall: 0.7326\n",
            "Epoch 35/100\n",
            "23/23 [==============================] - 0s 3ms/step - loss: 0.1126 - recall: 0.6250\n",
            "Epoch 36/100\n",
            "23/23 [==============================] - 0s 3ms/step - loss: 0.1039 - recall: 0.6667\n",
            "Epoch 37/100\n",
            "23/23 [==============================] - 0s 2ms/step - loss: 0.1051 - recall: 0.7049\n",
            "Epoch 38/100\n",
            "23/23 [==============================] - 0s 2ms/step - loss: 0.1046 - recall: 0.7014\n",
            "Epoch 39/100\n",
            "23/23 [==============================] - 0s 2ms/step - loss: 0.1033 - recall: 0.7014\n",
            "Epoch 40/100\n",
            "23/23 [==============================] - 0s 2ms/step - loss: 0.1038 - recall: 0.6910\n",
            "Epoch 41/100\n",
            "23/23 [==============================] - 0s 2ms/step - loss: 0.1040 - recall: 0.7465\n",
            "Epoch 42/100\n",
            "23/23 [==============================] - 0s 3ms/step - loss: 0.1036 - recall: 0.7049\n",
            "Epoch 43/100\n",
            "23/23 [==============================] - 0s 3ms/step - loss: 0.1036 - recall: 0.6979\n",
            "Epoch 44/100\n",
            "23/23 [==============================] - 0s 3ms/step - loss: 0.1031 - recall: 0.6944\n",
            "Epoch 45/100\n",
            "23/23 [==============================] - 0s 3ms/step - loss: 0.1033 - recall: 0.6806\n",
            "Epoch 46/100\n",
            "23/23 [==============================] - 0s 2ms/step - loss: 0.1022 - recall: 0.6944\n",
            "Epoch 47/100\n",
            "23/23 [==============================] - 0s 2ms/step - loss: 0.1026 - recall: 0.7049\n",
            "Epoch 48/100\n",
            "23/23 [==============================] - 0s 2ms/step - loss: 0.1024 - recall: 0.7361\n",
            "Epoch 49/100\n",
            "23/23 [==============================] - 0s 2ms/step - loss: 0.1019 - recall: 0.7049\n",
            "Epoch 50/100\n",
            "23/23 [==============================] - 0s 3ms/step - loss: 0.1046 - recall: 0.7292\n",
            "Epoch 51/100\n",
            "23/23 [==============================] - 0s 2ms/step - loss: 0.1102 - recall: 0.6562\n",
            "Epoch 52/100\n",
            "23/23 [==============================] - 0s 2ms/step - loss: 0.1035 - recall: 0.6562\n",
            "Epoch 53/100\n",
            "23/23 [==============================] - 0s 3ms/step - loss: 0.1022 - recall: 0.7604\n",
            "Epoch 54/100\n",
            "23/23 [==============================] - 0s 2ms/step - loss: 0.1015 - recall: 0.7153\n",
            "Epoch 55/100\n",
            "23/23 [==============================] - 0s 2ms/step - loss: 0.1023 - recall: 0.6910\n",
            "Epoch 56/100\n",
            "23/23 [==============================] - 0s 2ms/step - loss: 0.1016 - recall: 0.7396\n",
            "Epoch 57/100\n",
            "23/23 [==============================] - 0s 3ms/step - loss: 0.1019 - recall: 0.6910\n",
            "Epoch 58/100\n",
            "23/23 [==============================] - 0s 3ms/step - loss: 0.1015 - recall: 0.7431\n",
            "Epoch 59/100\n",
            "23/23 [==============================] - 0s 2ms/step - loss: 0.1023 - recall: 0.6736\n",
            "Epoch 60/100\n",
            "23/23 [==============================] - 0s 3ms/step - loss: 0.1020 - recall: 0.7049\n",
            "Epoch 61/100\n",
            "23/23 [==============================] - 0s 2ms/step - loss: 0.1005 - recall: 0.7361\n",
            "Epoch 62/100\n",
            "23/23 [==============================] - 0s 2ms/step - loss: 0.1044 - recall: 0.6597\n",
            "Epoch 63/100\n",
            "23/23 [==============================] - 0s 2ms/step - loss: 0.1025 - recall: 0.6979\n",
            "Epoch 64/100\n",
            "23/23 [==============================] - 0s 3ms/step - loss: 0.1005 - recall: 0.7431\n",
            "Epoch 65/100\n",
            "23/23 [==============================] - 0s 2ms/step - loss: 0.1002 - recall: 0.7292\n",
            "Epoch 66/100\n",
            "23/23 [==============================] - 0s 3ms/step - loss: 0.0994 - recall: 0.6910\n",
            "Epoch 67/100\n",
            "23/23 [==============================] - 0s 3ms/step - loss: 0.0993 - recall: 0.6771\n",
            "Epoch 68/100\n",
            "23/23 [==============================] - 0s 2ms/step - loss: 0.0991 - recall: 0.7674\n",
            "Epoch 69/100\n",
            "23/23 [==============================] - 0s 3ms/step - loss: 0.0993 - recall: 0.7257\n",
            "Epoch 70/100\n",
            "23/23 [==============================] - 0s 2ms/step - loss: 0.0988 - recall: 0.7743\n",
            "Epoch 71/100\n",
            "23/23 [==============================] - 0s 2ms/step - loss: 0.0984 - recall: 0.7465\n",
            "Epoch 72/100\n",
            "23/23 [==============================] - 0s 2ms/step - loss: 0.0987 - recall: 0.7569\n",
            "Epoch 73/100\n",
            "23/23 [==============================] - 0s 3ms/step - loss: 0.0986 - recall: 0.7222\n",
            "Epoch 74/100\n",
            "23/23 [==============================] - 0s 3ms/step - loss: 0.0986 - recall: 0.7326\n",
            "Epoch 75/100\n",
            "23/23 [==============================] - 0s 2ms/step - loss: 0.0981 - recall: 0.7326\n",
            "Epoch 76/100\n",
            "23/23 [==============================] - 0s 3ms/step - loss: 0.0989 - recall: 0.7222\n",
            "Epoch 77/100\n",
            "23/23 [==============================] - 0s 3ms/step - loss: 0.1003 - recall: 0.7674\n",
            "Epoch 78/100\n",
            "23/23 [==============================] - 0s 3ms/step - loss: 0.0999 - recall: 0.6944\n",
            "Epoch 79/100\n",
            "23/23 [==============================] - 0s 2ms/step - loss: 0.0971 - recall: 0.7778\n",
            "Epoch 80/100\n",
            "23/23 [==============================] - 0s 2ms/step - loss: 0.0993 - recall: 0.7083\n",
            "Epoch 81/100\n",
            "23/23 [==============================] - 0s 2ms/step - loss: 0.0971 - recall: 0.7535\n",
            "Epoch 82/100\n",
            "23/23 [==============================] - 0s 3ms/step - loss: 0.0974 - recall: 0.7604\n",
            "Epoch 83/100\n",
            "23/23 [==============================] - 0s 3ms/step - loss: 0.1002 - recall: 0.7292\n",
            "Epoch 84/100\n",
            "23/23 [==============================] - 0s 3ms/step - loss: 0.0992 - recall: 0.7188\n",
            "Epoch 85/100\n",
            "23/23 [==============================] - 0s 3ms/step - loss: 0.0977 - recall: 0.7361\n",
            "Epoch 86/100\n",
            "23/23 [==============================] - 0s 3ms/step - loss: 0.0979 - recall: 0.7049\n",
            "Epoch 87/100\n",
            "23/23 [==============================] - 0s 3ms/step - loss: 0.0990 - recall: 0.7153\n",
            "Epoch 88/100\n",
            "23/23 [==============================] - 0s 3ms/step - loss: 0.0978 - recall: 0.7153\n",
            "Epoch 89/100\n",
            "23/23 [==============================] - 0s 2ms/step - loss: 0.0970 - recall: 0.7708\n",
            "Epoch 90/100\n",
            "23/23 [==============================] - 0s 3ms/step - loss: 0.0985 - recall: 0.7222\n",
            "Epoch 91/100\n",
            "23/23 [==============================] - 0s 2ms/step - loss: 0.0970 - recall: 0.7500\n",
            "Epoch 92/100\n",
            "23/23 [==============================] - 0s 2ms/step - loss: 0.0957 - recall: 0.7396\n",
            "Epoch 93/100\n",
            "23/23 [==============================] - 0s 3ms/step - loss: 0.0962 - recall: 0.7604\n",
            "Epoch 94/100\n",
            "23/23 [==============================] - 0s 2ms/step - loss: 0.0992 - recall: 0.7604\n",
            "Epoch 95/100\n",
            "23/23 [==============================] - 0s 2ms/step - loss: 0.0974 - recall: 0.7743\n",
            "Epoch 96/100\n",
            "23/23 [==============================] - 0s 2ms/step - loss: 0.0971 - recall: 0.7257\n",
            "Epoch 97/100\n",
            "23/23 [==============================] - 0s 2ms/step - loss: 0.0973 - recall: 0.7639\n",
            "Epoch 98/100\n",
            "23/23 [==============================] - 0s 3ms/step - loss: 0.0965 - recall: 0.7361\n",
            "Epoch 99/100\n",
            "23/23 [==============================] - 0s 2ms/step - loss: 0.0965 - recall: 0.7535\n",
            "Epoch 100/100\n",
            "23/23 [==============================] - 0s 2ms/step - loss: 0.0970 - recall: 0.7500\n"
          ]
        },
        {
          "output_type": "execute_result",
          "data": {
            "text/plain": [
              "<keras.callbacks.History at 0x7f28610b3e10>"
            ]
          },
          "metadata": {},
          "execution_count": 496
        }
      ]
    },
    {
      "cell_type": "code",
      "source": [
        "# Make predictions with the trained data \n",
        "y_preds = model_1.predict(X_train_normal)\n"
      ],
      "metadata": {
        "id": "3tevQRQ4NX3T"
      },
      "execution_count": 497,
      "outputs": []
    },
    {
      "cell_type": "markdown",
      "source": [
        " We will create a confusion matrix to chet where the model is not working correctly "
      ],
      "metadata": {
        "id": "xROoD0DU4gea"
      }
    },
    {
      "cell_type": "code",
      "source": [
        "# Note: the confusion matrix code we're about to write is a remix of scikit-learn's plot confusion matrix \n",
        "\n",
        "import itertools \n",
        "\n",
        "figsize = (10,10)\n",
        "\n",
        "# Create the confusion matrix \n",
        "cm = confusion_matrix(y_train, tf.round(y_preds))\n",
        "cm_norm = cm.astype(\"float\") / cm.sum(axis=1)[:, np.newaxis] #Normalize our confusion matrix \n",
        "n_classes = cm.shape[0]\n",
        "\n",
        "\n",
        "# Let's prettify it \n",
        "fig, ax = plt.subplots(figsize=figsize)\n",
        "\n",
        "# Create a matrix plot \n",
        "cax = ax.matshow(cm, cmap=plt.cm.Blues)\n",
        "fig.colorbar(cax)\n",
        "\n",
        "# Creae classes \n",
        "classes= False \n",
        "\n",
        "if classes:\n",
        "  labels = classes\n",
        "else:\n",
        "  labels=np.arange(cm.shape[0])\n",
        "\n",
        "# Label the axes \n",
        "ax.set(title=\"Confusion Matrix\",\n",
        "       xlabel=\"Predicted Label\",\n",
        "       ylabel=\"True label\",\n",
        "       xticks=np.arange(n_classes),\n",
        "       yticks=np.arange(n_classes),\n",
        "       xticklabels=labels,\n",
        "       yticklabels=labels)\n",
        "\n",
        "# Set x-axis labels to bottom \n",
        "ax.xaxis.set_label_position(\"bottom\")\n",
        "ax.xaxis.tick_bottom()\n",
        "\n",
        "#Adjust label size \n",
        "ax.yaxis.label.set_size(20)\n",
        "ax.xaxis.label.set_size(20)\n",
        "ax.title.set_size(20)\n",
        "\n",
        "#Set threshold for different colors \n",
        "threshold = (cm.max() + cm.min()) / 2.\n",
        "\n",
        "#Plot the text on each cell \n",
        "for i, j in itertools.product(range(cm.shape[0]), range(cm.shape[1])):\n",
        "  plt.text(j, i, f\"{cm[i,j]} ({cm_norm[i, j]*100:.1f})%\",\n",
        "           horizontalalignment=\"center\",\n",
        "           color=\"black\" if cm[i, j] < threshold else \"white\", \n",
        "           size=15)"
      ],
      "metadata": {
        "colab": {
          "base_uri": "https://localhost:8080/",
          "height": 574
        },
        "id": "AqwsfdJLt_gA",
        "outputId": "0ec6a9f3-aeaf-4f44-80df-d4f36b4b2bd5"
      },
      "execution_count": 498,
      "outputs": [
        {
          "output_type": "display_data",
          "data": {
            "text/plain": [
              "<Figure size 720x720 with 2 Axes>"
            ],
            "image/png": "[encoded data removed]"
          },
          "metadata": {
            "needs_background": "light"
          }
        }
      ]
    },
    {
      "cell_type": "code",
      "source": [
        "y_preds_test = model_1.predict(X_test_normal)"
      ],
      "metadata": {
        "id": "quU83X0VmVZt"
      },
      "execution_count": 526,
      "outputs": []
    },
    {
      "cell_type": "code",
      "source": [
        "y_preds_test = tf.squeeze(y_preds_test)"
      ],
      "metadata": {
        "id": "vS7h_GXywE8k"
      },
      "execution_count": 527,
      "outputs": []
    },
    {
      "cell_type": "code",
      "source": [
        "y= np.reshape(y_preds_test,418)\n",
        "y= y.round()"
      ],
      "metadata": {
        "id": "I6SMofEawRqm"
      },
      "execution_count": 556,
      "outputs": []
    },
    {
      "cell_type": "code",
      "source": [
        "df_result = (X_test['PassengerId'], y)"
      ],
      "metadata": {
        "id": "GtYzEEMNySbE"
      },
      "execution_count": 557,
      "outputs": []
    },
    {
      "cell_type": "code",
      "source": [
        "df_result = pd.DataFrame (data=df_result)"
      ],
      "metadata": {
        "id": "8-ZL_BxvzyI2"
      },
      "execution_count": 558,
      "outputs": []
    },
    {
      "cell_type": "code",
      "source": [
        "df_result = df_result.T"
      ],
      "metadata": {
        "id": "XVtLrAbk2JN4"
      },
      "execution_count": 559,
      "outputs": []
    },
    {
      "cell_type": "code",
      "source": [
        "df_result.columns = [\"PassengerId\",\"Survived\"]"
      ],
      "metadata": {
        "id": "qbmELjjA2fho"
      },
      "execution_count": 560,
      "outputs": []
    },
    {
      "cell_type": "markdown",
      "source": [
        "Now we will export the results."
      ],
      "metadata": {
        "id": "YLdOlt934p87"
      }
    },
    {
      "cell_type": "code",
      "source": [
        "df_result.to_csv(\"submission.csv\")"
      ],
      "metadata": {
        "id": "nXeMeXn62q0W"
      },
      "execution_count": 562,
      "outputs": []
    },
    {
      "cell_type": "code",
      "source": [
        ""
      ],
      "metadata": {
        "id": "ewASzA-a3I31"
      },
      "execution_count": null,
      "outputs": []
    }
  ]
}